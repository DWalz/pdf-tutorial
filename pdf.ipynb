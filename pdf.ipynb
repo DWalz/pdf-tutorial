{
 "cells": [
  {
   "attachments": {},
   "cell_type": "markdown",
   "id": "a0883c89-c2ed-448d-b445-355229d1eda8",
   "metadata": {},
   "source": [
    "# PDF\n",
    "\n",
    "This is a small introduction into PDF files as an interactive Notebook with Python.\n",
    "\n",
    "PDF is a file format designed to hold documents of all types.\n",
    "PDF files are unencoded and their file data is normal ASCII text."
   ]
  },
  {
   "cell_type": "markdown",
   "id": "e3286a24",
   "metadata": {},
   "source": [
    "## Data Syntax\n",
    "\n",
    "Before the deep dive into the PDF document structure, knowledge about the syntax of data in PDF.\n",
    "There are data types like strings or numeric values.\n",
    "Those are simple enough and will be introduced when they are first used.\n",
    "\n",
    "There is however three types of data and the method of referencing objects that needs to be examined beforehand.\n",
    "\n",
    "### Name Objects\n",
    "\n",
    "Name objects are atomic objects that are uniquely defined.\n",
    "This means that two Name objects that consist of the same characters are one and the same object.\n",
    "\n",
    "Names begin with a `/` which is followed by arbitrarily many alphanumeric characters.\n",
    "They are usually used to denote keys in dictionary objects.\n",
    "\n",
    "**Example:**\n",
    "```\n",
    "/Name\n",
    "```\n",
    "\n",
    "### Array Objects\n",
    "\n",
    "Arrays in PDF are one-dimensional collections of PDF objects.\n",
    "They are delimited by square brackets (`[]`) while the objects inside are separated by whitespace.\n",
    "\n",
    "**Example:**\n",
    "```\n",
    "[ 1 200 /Name ]\n",
    "```\n",
    "\n",
    "### Dictionary Objects\n",
    "\n",
    "Dictionary objects are a collection key-value pairs.\n",
    "The key of any pair has to be a name object, the value may be any kind of data.\n",
    "Dictionaries are delimited by `<< >>` and the pairs inside by whitespace.\n",
    "\n",
    "**Example:**\n",
    "```\n",
    "<<\n",
    "    /Name   /Foo\n",
    "    /Age    23\n",
    ">>\n",
    "```\n",
    "\n",
    "### Referenced Objects\n",
    "\n",
    "Any object within a PDF file can be marked as referenced / indirect object.\n",
    "\n",
    "It is identified by an identifier, which consists of two parts, the object number and the generation number.\n",
    "The object number is a unique number for the object, while the generation number specifies in which generation of the document the object was created.\n",
    "In a newly created PDF file each object has generation number 0.\n",
    "\n",
    "This identifier is the followed up by the object that shall be refernced, surrounded by the keywords `obj` and `endobj`.\n",
    "\n",
    "It can then be referenced by its object number, its generation number and the keyword `R`.\n",
    "\n",
    "**Example:**\n",
    "```\n",
    "1 0 obj\n",
    "<<\n",
    "    /Name   /Foo\n",
    "    /Age    23\n",
    ">>\n",
    "endobj\n",
    "```\n",
    "```\n",
    "1 0 R\n",
    "```"
   ]
  },
  {
   "cell_type": "markdown",
   "id": "f527d9f2-f04e-4305-807c-515660bfbe0f",
   "metadata": {},
   "source": [
    "## Blank PDF\n",
    "\n",
    "To create a simple, blank PDF, we have to create a minimum base-structure.\n",
    "\n",
    "PDF-Files consist of mainly 4 parts:\n",
    "\n",
    "1. Header: Indicates PDF Version\n",
    "2. Body: Contains objects in the PDF-File\n",
    "3. Cross-Reference Table: Contains information about referenced objects\n",
    "4. Trailer: Gives Locations of CRT and other objects in the file"
   ]
  },
  {
   "cell_type": "markdown",
   "id": "6d19fac7",
   "metadata": {},
   "source": [
    "### Header\n",
    "\n",
    "The header is a single line containing the PDF-Version that was used to create this PDF file.\n",
    "The most recent PDF specification version is 2.0, but only up to version 1.7 is open-sourced.\n",
    "Since PDF-Files are meant to be backwards-compatible and the basic concepts should stay the same this tutorial uses version 1.7.\n",
    "\n",
    "The single header-line has the form\n",
    "\n",
    "```\n",
    "%PDF-1.7\n",
    "```\n",
    "\n",
    "where `1.7` is the used PDF version.\n",
    "\n",
    "In this tutorial we use 1.7, therefor our header looks like this:"
   ]
  },
  {
   "cell_type": "code",
   "execution_count": 1,
   "id": "d4faa666",
   "metadata": {},
   "outputs": [],
   "source": [
    "header = \"\"\"%PDF-1.7\n",
    "\"\"\""
   ]
  },
  {
   "cell_type": "markdown",
   "id": "3ef51880",
   "metadata": {},
   "source": [
    "### Body\n",
    "\n",
    "The PDF body contains the whole contents of the PDF file.\n",
    "Since we only want a blank page for our PDF file one could thing it was empty.\n",
    "This is not the case.\n",
    "Even the page specification is part of the PDF body.\n",
    "\n",
    "A PDF document is a hierarchy of PDF objects.\n",
    "This hierarchy is described in the PDF body.\n",
    "\n",
    "The root object is called the **Document Catalog**.\n",
    "It is also referenced in the trailer later to make finding it easier.\n",
    "The whole structure of the PDF file starts here."
   ]
  },
  {
   "cell_type": "markdown",
   "id": "29669260",
   "metadata": {},
   "source": [
    "#### Document Catalog\n",
    "\n",
    "The document catalog contians the whole description of the PDF document.\n",
    "It is a referenced PDF object that contains several other objects.\n",
    "\n",
    "It has a set of values which are required to describe a PDF document:\n",
    "\n",
    "- **/Type**: has to be `/Catalog`\n",
    "- **/Pages**: a reference to the documents **Page Tree Root**\n",
    "\n",
    "In this tutorial the objects are created in sequential order.\n",
    "The document catalog is the object 1.\n",
    "The page tree root will be object 2.\n",
    "Therefor our document catalog has the identifier `1 0` and the page tree root will be referenced by `2 0 R`:"
   ]
  },
  {
   "cell_type": "code",
   "execution_count": 2,
   "id": "3b29584d",
   "metadata": {},
   "outputs": [],
   "source": [
    "document_catalog = \"\"\"1 0 obj                 % DOCUMENT CATALOG\n",
    "<<\n",
    "    /Type   /Catalog    % Specifies this dictionary as of type document catalog\n",
    "    /Pages  2 0 R       % Reference to the page tree root that will be defined later\n",
    ">>\n",
    "endobj\n",
    "\"\"\""
   ]
  },
  {
   "cell_type": "markdown",
   "id": "3bcccfe8",
   "metadata": {},
   "source": [
    "#### Page Tree\n",
    "\n",
    "The page tree consists of one page tree root and can contain arbitrarily many page tree nodes.\n",
    "\n",
    "Each page tree node has a certain structure.\n",
    "The root node is special as in that it has no parent.\n",
    "\n",
    "**Page Tree Node Structure:**\n",
    "- **/Type**: has to be `/Pages`\n",
    "- **/Parent**: reference to the parent root tree node (prohibited in root)\n",
    "- **/Kids**: array containing the immediate children of the node; can contain page tree nodes or page objects\n",
    "- **/Count**: number of page objects that are descendants of this page tree node\n",
    "\n",
    "The page tree root in this case has identifier `2 0` specified in the document catalog section.\n",
    "The only page in the document will have identifier `3 0`:"
   ]
  },
  {
   "cell_type": "code",
   "execution_count": 3,
   "id": "7bd8fa39",
   "metadata": {},
   "outputs": [],
   "source": [
    "page_tree_root = \"\"\"2 0 obj                 % PAGE TREE ROOT\n",
    "<<\n",
    "    /Type   /Pages      % Specifies this dictionary as of type page tree object\n",
    "    /Kids   [           % Direct children on the page tree\n",
    "        3 0 R\n",
    "    ]\n",
    "    /Count  1           % Number of Pages that are descendant\n",
    ">>\n",
    "endobj\n",
    "\"\"\""
   ]
  },
  {
   "cell_type": "markdown",
   "id": "28e1c159",
   "metadata": {},
   "source": [
    "#### Page Objects\n",
    "\n",
    "Page objects describe a page in the document with all of its contents.\n",
    "\n",
    "**Page Object Structure:**\n",
    "- **/Type**: has to be `/Page`\n",
    "- **/Parent**: reference to the page tree node that is the immediate parent of this page\n",
    "- **/Resources**: the resources needed by content on this page, if omitted it is inherited from its parent in the page tree\n",
    "- **/MediaBox**: rectangle specifying the boundries of the page, if omitted it is inherited\n",
    "- **/Contents** (optional): array of contents on this page\n",
    "\n",
    "These are only the basic keys in the page object but all that are needed to define a page object.\n",
    "\n",
    "Since our page will be empty, we don't specify any contents (an empty array).\n",
    "Because the resources and the media box (page boundaries) are inherited from the parent node we don't need to specify them though they should be at least be specified somewhere in the page tree.\n",
    "Omitting the media box completely from the page tree lets it fall back to A4 page format, for simplicity reasons we don't use any media box here.\n",
    "The parent of this page is the page tree root defined earlier:"
   ]
  },
  {
   "cell_type": "code",
   "execution_count": 4,
   "id": "dfa09d81",
   "metadata": {},
   "outputs": [],
   "source": [
    "page = \"\"\"3 0 obj                 % PAGE\n",
    "<<\n",
    "    /Type       /Page   % Specifies this dictionary as of type page object\n",
    "    /Parent     2 0 R   % Reference to parent page tree node\n",
    ">>\n",
    "endobj\n",
    "\"\"\""
   ]
  },
  {
   "cell_type": "markdown",
   "id": "a6041077",
   "metadata": {},
   "source": [
    "#### Summary\n",
    "\n",
    "The body section contains all data for the PDF file.\n",
    "\n",
    "Here's what we got so far:"
   ]
  },
  {
   "cell_type": "code",
   "execution_count": 5,
   "id": "723ab3a6",
   "metadata": {},
   "outputs": [
    {
     "name": "stdout",
     "output_type": "stream",
     "text": [
      "1 0 obj                 % DOCUMENT CATALOG\n",
      "<<\n",
      "    /Type   /Catalog    % Specifies this dictionary as of type document catalog\n",
      "    /Pages  2 0 R       % Reference to the page tree root that will be defined later\n",
      ">>\n",
      "endobj\n",
      "2 0 obj                 % PAGE TREE ROOT\n",
      "<<\n",
      "    /Type   /Pages      % Specifies this dictionary as of type page tree object\n",
      "    /Kids   [           % Direct children on the page tree\n",
      "        3 0 R\n",
      "    ]\n",
      "    /Count  1           % Number of Pages that are descendant\n",
      ">>\n",
      "endobj\n",
      "3 0 obj                 % PAGE\n",
      "<<\n",
      "    /Type       /Page   % Specifies this dictionary as of type page object\n",
      "    /Parent     2 0 R   % Reference to parent page tree node\n",
      ">>\n",
      "endobj\n",
      "\n",
      "====================\n",
      "\n",
      "%PDF-1.7\n",
      "1 0 obj                 % DOCUMENT CATALOG\n",
      "<<\n",
      "    /Type   /Catalog    % Specifies this dictionary as of type document catalog\n",
      "    /Pages  2 0 R       % Reference to the page tree root that will be defined later\n",
      ">>\n",
      "endobj\n",
      "2 0 obj                 % PAGE TREE ROOT\n",
      "<<\n",
      "    /Type   /Pages      % Specifies this dictionary as of type page tree object\n",
      "    /Kids   [           % Direct children on the page tree\n",
      "        3 0 R\n",
      "    ]\n",
      "    /Count  1           % Number of Pages that are descendant\n",
      ">>\n",
      "endobj\n",
      "3 0 obj                 % PAGE\n",
      "<<\n",
      "    /Type       /Page   % Specifies this dictionary as of type page object\n",
      "    /Parent     2 0 R   % Reference to parent page tree node\n",
      ">>\n",
      "endobj\n",
      "\n"
     ]
    }
   ],
   "source": [
    "body = \"\".join((document_catalog,  page_tree_root, page))\n",
    "print(body)\n",
    "\n",
    "print(\"=\" * 20 + \"\\n\")\n",
    "\n",
    "pdf_file = \"\".join((header, body))\n",
    "print(pdf_file)\n"
   ]
  },
  {
   "cell_type": "markdown",
   "id": "0debe6b4",
   "metadata": {},
   "source": [
    "### Cross-Reference Table\n",
    "\n",
    "The cross reference table holds the positions of all referenced objects in the file.\n",
    "It acts as a kind of random access memory for the objects, so objects hidden somewhere in the file can be found quickly.\n",
    "This is done so not the whole file needs to be read to find an object.\n",
    "\n",
    "The cross-reference table consists of multiple sections which each hold data for one file version.\n",
    "Therefor a new PDF file that has not been edited has only one such sections holding all objects.\n",
    "\n",
    "A section begins with the line `xref`, after that follow one or more subsections in any order.\n",
    "\n",
    "These subsections are also used for file updates so a new PDF file once again has only one of them.\n",
    "Each subsection holds a set of entries for continuous objects, which means each additional entry in a subsection increases the id of the referenced object by 1.\n",
    "This removes the necessity to specify the id of every object for each entry.\n",
    "\n",
    "A subsection begins with a line holding two numbers:\n",
    "The id of the first referenced object and the number of objects that are being referenced.\n",
    "\n",
    "Each entry into the cross-reference table has a very specific syntax:\n",
    "\n",
    "```\n",
    "nnnnnnnnnn ggggg <f/n>\n",
    "```\n",
    "\n",
    "Where `n...n` is the offset of the object in the file from the beginning in bytes with 10 digits(0-padded if necessary)\n",
    "`g...g` is the generation number which is initially 0 and gets updated with each customisation to this object.\n",
    "`f` or `n` specify the type of entry.\n",
    "`n` is for active objects while `f` is for entries which objects have been deleted.\n",
    "\n",
    "The entry with object id 0 shall always be free and have generation number 65535.\n",
    "\n",
    "Our PDF file has 3 objects therefor we need 3 entries in the cross reference table + 1 for the 0th object:"
   ]
  },
  {
   "cell_type": "code",
   "execution_count": 6,
   "id": "01572466",
   "metadata": {},
   "outputs": [
    {
     "name": "stdout",
     "output_type": "stream",
     "text": [
      "xref\n",
      "0 4\n",
      "0000000000 65535 f\n",
      "0000000009 00000 n\n",
      "0000000230 00000 n\n",
      "0000000505 00000 n\n",
      "\n"
     ]
    }
   ],
   "source": [
    "header_length = len(header)\n",
    "object1_length = len(document_catalog)\n",
    "object2_length = len(page_tree_root)\n",
    "object3_length = len(page)\n",
    "\n",
    "object1_offset = header_length\n",
    "object2_offset = object1_offset + object1_length\n",
    "object3_offset = object2_offset + object2_length\n",
    "\n",
    "cross_reference_table = f\"\"\"xref\n",
    "0 4\n",
    "0000000000 65535 f\n",
    "{str(object1_offset).zfill(10)} 00000 n\n",
    "{str(object2_offset).zfill(10)} 00000 n\n",
    "{str(object3_offset).zfill(10)} 00000 n\n",
    "\"\"\"\n",
    "\n",
    "print(cross_reference_table)"
   ]
  },
  {
   "cell_type": "markdown",
   "id": "c1371ad6",
   "metadata": {},
   "source": [
    "### Trailer\n",
    "\n",
    "The trailer of the PDF file is designed to allow quick access to all important parts of a PDF document.\n",
    "It consists of the line `trailer`, the **Trailer Dictionary**, the offset of the cross-reference dictionary and the line `%%EOF`.\n",
    "\n",
    "#### Trailer Dictionary\n",
    "\n",
    "The trailer dictionary holds important information about the pdf file.\n",
    "\n",
    "**Trailer Dictionary Structure:**\n",
    "- **/Size**: total size of the cross-reference table\n",
    "- **/Root**: reference to the document catalog\n",
    "\n",
    "Our cross-reference table has 4 entries and the document catalog is `1 0`:"
   ]
  },
  {
   "cell_type": "code",
   "execution_count": 7,
   "id": "f8d724a7",
   "metadata": {},
   "outputs": [],
   "source": [
    "trailer_dictionary = \"\"\"trailer                 % TRAILER DICTIONARY\n",
    "<<\n",
    "    /Size   4           % Size of the CRT\n",
    "    /Root   1 0 R       % References the Document Catalog\n",
    ">>\n",
    "\"\"\""
   ]
  },
  {
   "cell_type": "markdown",
   "id": "cca28340",
   "metadata": {},
   "source": [
    "#### CRT Offset\n",
    "\n",
    "Finally, the offset to the CRT has to be specified in bytes from the file start.\n",
    "This is preceeded by the line `startxref` and followed by the file end marker `%%EOF`."
   ]
  },
  {
   "cell_type": "code",
   "execution_count": 8,
   "id": "8458cd28",
   "metadata": {},
   "outputs": [
    {
     "name": "stdout",
     "output_type": "stream",
     "text": [
      "startxref\n",
      "685\n",
      "%%EOF\n",
      "\n"
     ]
    }
   ],
   "source": [
    "body_length = len(body)\n",
    "\n",
    "crt_offset = f\"\"\"startxref\n",
    "{header_length + body_length}\n",
    "%%EOF\n",
    "\"\"\"\n",
    "\n",
    "print(crt_offset)"
   ]
  },
  {
   "cell_type": "markdown",
   "id": "eb382216",
   "metadata": {},
   "source": [
    "#### Summary\n",
    "\n",
    "The finished trailer:"
   ]
  },
  {
   "cell_type": "code",
   "execution_count": 9,
   "id": "3743c351",
   "metadata": {},
   "outputs": [],
   "source": [
    "trailer = \"\".join((trailer_dictionary, crt_offset))"
   ]
  },
  {
   "cell_type": "markdown",
   "id": "6e98f2dd",
   "metadata": {},
   "source": [
    "### Putting it together\n",
    "\n",
    "The complete file:"
   ]
  },
  {
   "cell_type": "code",
   "execution_count": 10,
   "id": "a42e5114",
   "metadata": {},
   "outputs": [
    {
     "name": "stdout",
     "output_type": "stream",
     "text": [
      "%PDF-1.7\n",
      "1 0 obj                 % DOCUMENT CATALOG\n",
      "<<\n",
      "    /Type   /Catalog    % Specifies this dictionary as of type document catalog\n",
      "    /Pages  2 0 R       % Reference to the page tree root that will be defined later\n",
      ">>\n",
      "endobj\n",
      "2 0 obj                 % PAGE TREE ROOT\n",
      "<<\n",
      "    /Type   /Pages      % Specifies this dictionary as of type page tree object\n",
      "    /Kids   [           % Direct children on the page tree\n",
      "        3 0 R\n",
      "    ]\n",
      "    /Count  1           % Number of Pages that are descendant\n",
      ">>\n",
      "endobj\n",
      "3 0 obj                 % PAGE\n",
      "<<\n",
      "    /Type       /Page   % Specifies this dictionary as of type page object\n",
      "    /Parent     2 0 R   % Reference to parent page tree node\n",
      ">>\n",
      "endobj\n",
      "xref\n",
      "0 4\n",
      "0000000000 65535 f\n",
      "0000000009 00000 n\n",
      "0000000230 00000 n\n",
      "0000000505 00000 n\n",
      "trailer                 % TRAILER DICTIONARY\n",
      "<<\n",
      "    /Size   4           % Size of the CRT\n",
      "    /Root   1 0 R       % References the Document Catalog\n",
      ">>\n",
      "startxref\n",
      "685\n",
      "%%EOF\n",
      "\n"
     ]
    }
   ],
   "source": [
    "pdf_file = \"\".join((header, body, cross_reference_table, trailer))\n",
    "print(pdf_file)"
   ]
  },
  {
   "cell_type": "markdown",
   "id": "a4784864",
   "metadata": {},
   "source": [
    "Let's save our PDF file into an actual file and try to open it:"
   ]
  },
  {
   "cell_type": "code",
   "execution_count": 14,
   "id": "39bc3472",
   "metadata": {},
   "outputs": [],
   "source": [
    "with open(\"example.pdf\", \"w\", newline=\"\") as target_file:\n",
    "    target_file.write(pdf_file)"
   ]
  }
 ],
 "metadata": {
  "kernelspec": {
   "display_name": "Python 3 (ipykernel)",
   "language": "python",
   "name": "python3"
  },
  "language_info": {
   "codemirror_mode": {
    "name": "ipython",
    "version": 3
   },
   "file_extension": ".py",
   "mimetype": "text/x-python",
   "name": "python",
   "nbconvert_exporter": "python",
   "pygments_lexer": "ipython3",
   "version": "3.11.0"
  }
 },
 "nbformat": 4,
 "nbformat_minor": 5
}
